{
 "cells": [
  {
   "cell_type": "code",
   "execution_count": 1,
   "id": "fe15f241-ca73-4a6c-8050-6e2f48785451",
   "metadata": {},
   "outputs": [],
   "source": [
    "import pandas as pd\n",
    "import requests\n",
    "\n",
    "from sklearn.metrics import confusion_matrix, ConfusionMatrixDisplay, f1_score, precision_score, recall_score"
   ]
  },
  {
   "cell_type": "code",
   "execution_count": 2,
   "id": "c383ef2c-fa42-4906-b6b9-8ff5313bc5ba",
   "metadata": {},
   "outputs": [],
   "source": [
    "url = 'http://localhost:5000/invocations'"
   ]
  },
  {
   "cell_type": "code",
   "execution_count": 3,
   "id": "9addca95-5a8b-466e-a5e6-9d879a4e6e0f",
   "metadata": {},
   "outputs": [],
   "source": [
    "data = {\"dataframe_records\": \n",
    "        [{'lat': 34.0443,\n",
    "          'lon': -118.4268,\n",
    "          'minutes_remaining': 10.0,\n",
    "          'period': 1.0,\n",
    "          'playoffs': 0.0,\n",
    "          'shot_distance': 15.0},\n",
    "         {'lat': 33.9093,\n",
    "          'lon': -118.3708,\n",
    "          'minutes_remaining': 7.0,\n",
    "          'period': 1.0,\n",
    "          'playoffs': 0.0,\n",
    "          'shot_distance': 16.0}\n",
    "        ]}"
   ]
  },
  {
   "cell_type": "code",
   "execution_count": 4,
   "id": "cf043871-2373-4f98-8705-658a4ca4ff56",
   "metadata": {},
   "outputs": [],
   "source": [
    "results = requests.post(url, json = data)"
   ]
  },
  {
   "cell_type": "code",
   "execution_count": 5,
   "id": "f6dc056f-4da3-4ec5-a89e-ebd5c5d164c0",
   "metadata": {},
   "outputs": [
    {
     "data": {
      "text/plain": [
       "200"
      ]
     },
     "execution_count": 5,
     "metadata": {},
     "output_type": "execute_result"
    }
   ],
   "source": [
    "results.status_code"
   ]
  },
  {
   "cell_type": "code",
   "execution_count": 6,
   "id": "f8d238a1-6d7a-4662-8d9c-263cbed5ce3b",
   "metadata": {},
   "outputs": [
    {
     "data": {
      "text/plain": [
       "{'predictions': [0.0, 0.0]}"
      ]
     },
     "execution_count": 6,
     "metadata": {},
     "output_type": "execute_result"
    }
   ],
   "source": [
    "results.json()"
   ]
  },
  {
   "cell_type": "code",
   "execution_count": 7,
   "id": "304c06db-e83f-440c-b0f9-7d8654dd9960",
   "metadata": {},
   "outputs": [],
   "source": [
    "data_inference = pd.read_csv(\"../data/05_model_input/base_inference.csv\")"
   ]
  },
  {
   "cell_type": "code",
   "execution_count": 8,
   "id": "724dcebf-8d89-48c6-90c0-09c8b585dcab",
   "metadata": {},
   "outputs": [
    {
     "data": {
      "text/plain": [
       "0       0.0\n",
       "1       1.0\n",
       "2       0.0\n",
       "3       1.0\n",
       "4       0.0\n",
       "       ... \n",
       "5407    0.0\n",
       "5408    1.0\n",
       "5409    0.0\n",
       "5410    0.0\n",
       "5411    0.0\n",
       "Name: shot_made_flag, Length: 5412, dtype: float64"
      ]
     },
     "execution_count": 8,
     "metadata": {},
     "output_type": "execute_result"
    }
   ],
   "source": [
    "df_shot_flag = data_inference['shot_made_flag']\n",
    "df_shot_flag"
   ]
  },
  {
   "cell_type": "code",
   "execution_count": 9,
   "id": "983d46a6-480f-4e77-9aed-70b262b23f20",
   "metadata": {},
   "outputs": [],
   "source": [
    "data_inference.drop('shot_made_flag', axis = 1,inplace=True)"
   ]
  },
  {
   "cell_type": "code",
   "execution_count": 10,
   "id": "9a2ceddf-b432-442d-8211-d6732ced9178",
   "metadata": {},
   "outputs": [
    {
     "data": {
      "text/html": [
       "<div>\n",
       "<style scoped>\n",
       "    .dataframe tbody tr th:only-of-type {\n",
       "        vertical-align: middle;\n",
       "    }\n",
       "\n",
       "    .dataframe tbody tr th {\n",
       "        vertical-align: top;\n",
       "    }\n",
       "\n",
       "    .dataframe thead th {\n",
       "        text-align: right;\n",
       "    }\n",
       "</style>\n",
       "<table border=\"1\" class=\"dataframe\">\n",
       "  <thead>\n",
       "    <tr style=\"text-align: right;\">\n",
       "      <th></th>\n",
       "      <th>lat</th>\n",
       "      <th>lon</th>\n",
       "      <th>minutes_remaining</th>\n",
       "      <th>period</th>\n",
       "      <th>playoffs</th>\n",
       "      <th>shot_distance</th>\n",
       "    </tr>\n",
       "  </thead>\n",
       "  <tbody>\n",
       "    <tr>\n",
       "      <th>0</th>\n",
       "      <td>33.8063</td>\n",
       "      <td>-118.3638</td>\n",
       "      <td>1</td>\n",
       "      <td>3</td>\n",
       "      <td>0</td>\n",
       "      <td>25</td>\n",
       "    </tr>\n",
       "    <tr>\n",
       "      <th>1</th>\n",
       "      <td>33.8183</td>\n",
       "      <td>-118.3868</td>\n",
       "      <td>8</td>\n",
       "      <td>2</td>\n",
       "      <td>0</td>\n",
       "      <td>25</td>\n",
       "    </tr>\n",
       "    <tr>\n",
       "      <th>2</th>\n",
       "      <td>33.8583</td>\n",
       "      <td>-118.4528</td>\n",
       "      <td>0</td>\n",
       "      <td>3</td>\n",
       "      <td>0</td>\n",
       "      <td>26</td>\n",
       "    </tr>\n",
       "    <tr>\n",
       "      <th>3</th>\n",
       "      <td>33.7723</td>\n",
       "      <td>-118.2968</td>\n",
       "      <td>0</td>\n",
       "      <td>2</td>\n",
       "      <td>0</td>\n",
       "      <td>27</td>\n",
       "    </tr>\n",
       "    <tr>\n",
       "      <th>4</th>\n",
       "      <td>33.8503</td>\n",
       "      <td>-118.4248</td>\n",
       "      <td>2</td>\n",
       "      <td>1</td>\n",
       "      <td>0</td>\n",
       "      <td>24</td>\n",
       "    </tr>\n",
       "    <tr>\n",
       "      <th>...</th>\n",
       "      <td>...</td>\n",
       "      <td>...</td>\n",
       "      <td>...</td>\n",
       "      <td>...</td>\n",
       "      <td>...</td>\n",
       "      <td>...</td>\n",
       "    </tr>\n",
       "    <tr>\n",
       "      <th>5407</th>\n",
       "      <td>33.8283</td>\n",
       "      <td>-118.4038</td>\n",
       "      <td>2</td>\n",
       "      <td>1</td>\n",
       "      <td>1</td>\n",
       "      <td>25</td>\n",
       "    </tr>\n",
       "    <tr>\n",
       "      <th>5408</th>\n",
       "      <td>33.7833</td>\n",
       "      <td>-118.2878</td>\n",
       "      <td>0</td>\n",
       "      <td>2</td>\n",
       "      <td>1</td>\n",
       "      <td>26</td>\n",
       "    </tr>\n",
       "    <tr>\n",
       "      <th>5409</th>\n",
       "      <td>33.7943</td>\n",
       "      <td>-118.1888</td>\n",
       "      <td>7</td>\n",
       "      <td>3</td>\n",
       "      <td>1</td>\n",
       "      <td>26</td>\n",
       "    </tr>\n",
       "    <tr>\n",
       "      <th>5410</th>\n",
       "      <td>33.3653</td>\n",
       "      <td>-118.2818</td>\n",
       "      <td>0</td>\n",
       "      <td>3</td>\n",
       "      <td>1</td>\n",
       "      <td>67</td>\n",
       "    </tr>\n",
       "    <tr>\n",
       "      <th>5411</th>\n",
       "      <td>33.7773</td>\n",
       "      <td>-118.2388</td>\n",
       "      <td>2</td>\n",
       "      <td>4</td>\n",
       "      <td>1</td>\n",
       "      <td>26</td>\n",
       "    </tr>\n",
       "  </tbody>\n",
       "</table>\n",
       "<p>5412 rows × 6 columns</p>\n",
       "</div>"
      ],
      "text/plain": [
       "          lat       lon  minutes_remaining  period  playoffs  shot_distance\n",
       "0     33.8063 -118.3638                  1       3         0             25\n",
       "1     33.8183 -118.3868                  8       2         0             25\n",
       "2     33.8583 -118.4528                  0       3         0             26\n",
       "3     33.7723 -118.2968                  0       2         0             27\n",
       "4     33.8503 -118.4248                  2       1         0             24\n",
       "...       ...       ...                ...     ...       ...            ...\n",
       "5407  33.8283 -118.4038                  2       1         1             25\n",
       "5408  33.7833 -118.2878                  0       2         1             26\n",
       "5409  33.7943 -118.1888                  7       3         1             26\n",
       "5410  33.3653 -118.2818                  0       3         1             67\n",
       "5411  33.7773 -118.2388                  2       4         1             26\n",
       "\n",
       "[5412 rows x 6 columns]"
      ]
     },
     "execution_count": 10,
     "metadata": {},
     "output_type": "execute_result"
    }
   ],
   "source": [
    "data_inference"
   ]
  },
  {
   "cell_type": "code",
   "execution_count": 11,
   "id": "5019ba47-6874-4f50-87a3-617236d2f260",
   "metadata": {},
   "outputs": [],
   "source": [
    "results_inference = requests.post(url, json = {\"dataframe_records\": data_inference.to_dict(orient='records')})"
   ]
  },
  {
   "cell_type": "code",
   "execution_count": 12,
   "id": "84a91c50-ae38-4d52-a603-651cc42fa554",
   "metadata": {},
   "outputs": [
    {
     "data": {
      "text/plain": [
       "<Response [200]>"
      ]
     },
     "execution_count": 12,
     "metadata": {},
     "output_type": "execute_result"
    }
   ],
   "source": [
    "results_inference"
   ]
  },
  {
   "cell_type": "code",
   "execution_count": 13,
   "id": "966bbee0-4cc4-4a0f-b92b-4709c2f76ff2",
   "metadata": {},
   "outputs": [
    {
     "data": {
      "text/html": [
       "<div>\n",
       "<style scoped>\n",
       "    .dataframe tbody tr th:only-of-type {\n",
       "        vertical-align: middle;\n",
       "    }\n",
       "\n",
       "    .dataframe tbody tr th {\n",
       "        vertical-align: top;\n",
       "    }\n",
       "\n",
       "    .dataframe thead th {\n",
       "        text-align: right;\n",
       "    }\n",
       "</style>\n",
       "<table border=\"1\" class=\"dataframe\">\n",
       "  <thead>\n",
       "    <tr style=\"text-align: right;\">\n",
       "      <th></th>\n",
       "      <th>predictions</th>\n",
       "    </tr>\n",
       "  </thead>\n",
       "  <tbody>\n",
       "    <tr>\n",
       "      <th>0</th>\n",
       "      <td>0.0</td>\n",
       "    </tr>\n",
       "    <tr>\n",
       "      <th>1</th>\n",
       "      <td>0.0</td>\n",
       "    </tr>\n",
       "    <tr>\n",
       "      <th>2</th>\n",
       "      <td>0.0</td>\n",
       "    </tr>\n",
       "    <tr>\n",
       "      <th>3</th>\n",
       "      <td>0.0</td>\n",
       "    </tr>\n",
       "    <tr>\n",
       "      <th>4</th>\n",
       "      <td>0.0</td>\n",
       "    </tr>\n",
       "    <tr>\n",
       "      <th>...</th>\n",
       "      <td>...</td>\n",
       "    </tr>\n",
       "    <tr>\n",
       "      <th>5407</th>\n",
       "      <td>0.0</td>\n",
       "    </tr>\n",
       "    <tr>\n",
       "      <th>5408</th>\n",
       "      <td>0.0</td>\n",
       "    </tr>\n",
       "    <tr>\n",
       "      <th>5409</th>\n",
       "      <td>0.0</td>\n",
       "    </tr>\n",
       "    <tr>\n",
       "      <th>5410</th>\n",
       "      <td>0.0</td>\n",
       "    </tr>\n",
       "    <tr>\n",
       "      <th>5411</th>\n",
       "      <td>0.0</td>\n",
       "    </tr>\n",
       "  </tbody>\n",
       "</table>\n",
       "<p>5412 rows × 1 columns</p>\n",
       "</div>"
      ],
      "text/plain": [
       "      predictions\n",
       "0             0.0\n",
       "1             0.0\n",
       "2             0.0\n",
       "3             0.0\n",
       "4             0.0\n",
       "...           ...\n",
       "5407          0.0\n",
       "5408          0.0\n",
       "5409          0.0\n",
       "5410          0.0\n",
       "5411          0.0\n",
       "\n",
       "[5412 rows x 1 columns]"
      ]
     },
     "execution_count": 13,
     "metadata": {},
     "output_type": "execute_result"
    }
   ],
   "source": [
    "df_pred = pd.DataFrame(results_inference.json())\n",
    "df_pred"
   ]
  },
  {
   "cell_type": "code",
   "execution_count": 14,
   "id": "66b273bb-d3a9-4eb8-a25b-b3d64b0b5331",
   "metadata": {},
   "outputs": [
    {
     "data": {
      "text/plain": [
       "0       0.0\n",
       "1       0.0\n",
       "2       0.0\n",
       "3       0.0\n",
       "4       0.0\n",
       "       ... \n",
       "5407    0.0\n",
       "5408    0.0\n",
       "5409    0.0\n",
       "5410    0.0\n",
       "5411    0.0\n",
       "Name: predictions, Length: 5412, dtype: float64"
      ]
     },
     "execution_count": 14,
     "metadata": {},
     "output_type": "execute_result"
    }
   ],
   "source": [
    "df_pred['predictions']"
   ]
  },
  {
   "cell_type": "code",
   "execution_count": 15,
   "id": "67fba93f-a76f-4e6e-abac-955153bc42d9",
   "metadata": {},
   "outputs": [
    {
     "data": {
      "text/html": [
       "<div>\n",
       "<style scoped>\n",
       "    .dataframe tbody tr th:only-of-type {\n",
       "        vertical-align: middle;\n",
       "    }\n",
       "\n",
       "    .dataframe tbody tr th {\n",
       "        vertical-align: top;\n",
       "    }\n",
       "\n",
       "    .dataframe thead th {\n",
       "        text-align: right;\n",
       "    }\n",
       "</style>\n",
       "<table border=\"1\" class=\"dataframe\">\n",
       "  <thead>\n",
       "    <tr style=\"text-align: right;\">\n",
       "      <th></th>\n",
       "      <th>predictions</th>\n",
       "    </tr>\n",
       "  </thead>\n",
       "  <tbody>\n",
       "    <tr>\n",
       "      <th>2381</th>\n",
       "      <td>1.0</td>\n",
       "    </tr>\n",
       "    <tr>\n",
       "      <th>4170</th>\n",
       "      <td>1.0</td>\n",
       "    </tr>\n",
       "    <tr>\n",
       "      <th>4830</th>\n",
       "      <td>1.0</td>\n",
       "    </tr>\n",
       "  </tbody>\n",
       "</table>\n",
       "</div>"
      ],
      "text/plain": [
       "      predictions\n",
       "2381          1.0\n",
       "4170          1.0\n",
       "4830          1.0"
      ]
     },
     "execution_count": 15,
     "metadata": {},
     "output_type": "execute_result"
    }
   ],
   "source": [
    "df_pred.query('predictions == 1')"
   ]
  },
  {
   "cell_type": "code",
   "execution_count": null,
   "id": "7d24c172-796f-40bd-a237-bda9653fcff5",
   "metadata": {},
   "outputs": [],
   "source": [
    "# Apenas 3 arremessos foram previstos com sucesso"
   ]
  },
  {
   "cell_type": "code",
   "execution_count": 16,
   "id": "12f514fb-9ad0-4c5f-85d1-e2f59322b1bd",
   "metadata": {},
   "outputs": [
    {
     "data": {
      "text/plain": [
       "lat                   34.0043\n",
       "lon                 -118.1828\n",
       "minutes_remaining      4.0000\n",
       "period                 1.0000\n",
       "playoffs               0.0000\n",
       "shot_distance          9.0000\n",
       "Name: 2381, dtype: float64"
      ]
     },
     "execution_count": 16,
     "metadata": {},
     "output_type": "execute_result"
    }
   ],
   "source": [
    "data_inference.iloc[2381]"
   ]
  },
  {
   "cell_type": "code",
   "execution_count": 17,
   "id": "739fe3b3-2281-495f-9716-6551a78851c1",
   "metadata": {},
   "outputs": [
    {
     "data": {
      "text/plain": [
       "lat                   34.0443\n",
       "lon                 -118.2698\n",
       "minutes_remaining      6.0000\n",
       "period                 2.0000\n",
       "playoffs               0.0000\n",
       "shot_distance          0.0000\n",
       "Name: 4170, dtype: float64"
      ]
     },
     "execution_count": 17,
     "metadata": {},
     "output_type": "execute_result"
    }
   ],
   "source": [
    "data_inference.iloc[4170]"
   ]
  },
  {
   "cell_type": "code",
   "execution_count": 18,
   "id": "c5dc9b38-e0dc-4121-ad25-a2c1188ac6a1",
   "metadata": {},
   "outputs": [
    {
     "data": {
      "text/plain": [
       "lat                   33.3333\n",
       "lon                 -118.2348\n",
       "minutes_remaining      0.0000\n",
       "period                 3.0000\n",
       "playoffs               1.0000\n",
       "shot_distance         71.0000\n",
       "Name: 4830, dtype: float64"
      ]
     },
     "execution_count": 18,
     "metadata": {},
     "output_type": "execute_result"
    }
   ],
   "source": [
    "data_inference.iloc[4830]"
   ]
  },
  {
   "cell_type": "code",
   "execution_count": 19,
   "id": "0186a8bd-8e48-4891-8efc-6997c219f375",
   "metadata": {},
   "outputs": [
    {
     "data": {
      "text/plain": [
       "<sklearn.metrics._plot.confusion_matrix.ConfusionMatrixDisplay at 0x1f0d179aeb0>"
      ]
     },
     "execution_count": 19,
     "metadata": {},
     "output_type": "execute_result"
    },
    {
     "data": {
      "image/png": "[encoded data removed]",
      "text/plain": [
       "<Figure size 640x480 with 2 Axes>"
      ]
     },
     "metadata": {},
     "output_type": "display_data"
    }
   ],
   "source": [
    "cm = confusion_matrix(df_shot_flag, df_pred['predictions'])\n",
    "disp = ConfusionMatrixDisplay(confusion_matrix=cm)\n",
    "disp.plot()"
   ]
  },
  {
   "cell_type": "code",
   "execution_count": 20,
   "id": "6abe2ff0-d708-4b8e-8722-75b9a531b4a8",
   "metadata": {},
   "outputs": [
    {
     "data": {
      "text/plain": [
       "0.0"
      ]
     },
     "execution_count": 20,
     "metadata": {},
     "output_type": "execute_result"
    }
   ],
   "source": [
    "f1_score(df_shot_flag, df_pred['predictions'])"
   ]
  },
  {
   "cell_type": "code",
   "execution_count": 21,
   "id": "c99741e5-d6a5-47ad-978d-d0f0f114eca5",
   "metadata": {},
   "outputs": [
    {
     "data": {
      "text/plain": [
       "0.0"
      ]
     },
     "execution_count": 21,
     "metadata": {},
     "output_type": "execute_result"
    }
   ],
   "source": [
    "precision_score(df_shot_flag, df_pred['predictions'])"
   ]
  },
  {
   "cell_type": "code",
   "execution_count": 22,
   "id": "9ddb7d45-7d22-498b-bbd8-46b504631678",
   "metadata": {},
   "outputs": [
    {
     "data": {
      "text/plain": [
       "0.0"
      ]
     },
     "execution_count": 22,
     "metadata": {},
     "output_type": "execute_result"
    }
   ],
   "source": [
    "recall_score(df_shot_flag, df_pred['predictions'])"
   ]
  },
  {
   "cell_type": "code",
   "execution_count": null,
   "id": "0b8a4032-7896-4d48-b268-c8c2053c3dcb",
   "metadata": {},
   "outputs": [],
   "source": []
  }
 ],
 "metadata": {
  "kernelspec": {
   "display_name": "Python 3 (ipykernel)",
   "language": "python",
   "name": "python3"
  },
  "language_info": {
   "codemirror_mode": {
    "name": "ipython",
    "version": 3
   },
   "file_extension": ".py",
   "mimetype": "text/x-python",
   "name": "python",
   "nbconvert_exporter": "python",
   "pygments_lexer": "ipython3",
   "version": "3.8.16"
  }
 },
 "nbformat": 4,
 "nbformat_minor": 5
}
